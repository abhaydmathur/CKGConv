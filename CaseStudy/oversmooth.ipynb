{
 "cells": [
  {
   "cell_type": "raw",
   "source": [
    "'''\n",
    "        0 --- 0\n",
    "       /       \\\n",
    "     /          \\\n",
    "    -1            1\n",
    "     \\          /\n",
    "      \\        /\n",
    "       0 --- 0\n",
    "'''\n",
    "\n"
   ],
   "metadata": {
    "collapsed": false
   }
  },
  {
   "cell_type": "code",
   "execution_count": 56,
   "metadata": {
    "collapsed": true,
    "ExecuteTime": {
     "end_time": "2024-03-25T17:35:52.564706200Z",
     "start_time": "2024-03-25T17:35:52.399017100Z"
    }
   },
   "outputs": [],
   "source": [
    "import torch\n",
    "from torch import nn\n",
    "import torch_geometric as pyg\n",
    "import numpy as np\n",
    "\n",
    "from torch_geometric.nn import Sequential\n",
    "from torch_geometric.nn import GCNConv\n",
    "from SimCKGConv import CKGConv\n",
    "from tqdm import tqdm, trange\n",
    "from torch_sparse import SparseTensor\n"
   ]
  },
  {
   "cell_type": "markdown",
   "source": [
    "## Prepare Synthetic Data"
   ],
   "metadata": {
    "collapsed": false
   }
  },
  {
   "cell_type": "code",
   "execution_count": 2,
   "outputs": [],
   "source": [
    "# Data\n",
    "'''\n",
    "        1 --- 0\n",
    "       /       \\\n",
    "     /          \\\n",
    "    0            1\n",
    "     \\          /\n",
    "      \\        /\n",
    "       1 --- 0\n",
    "'''\n",
    "\n",
    "adj = [\n",
    "    [0, 1, 1, 0, 0, 0],\n",
    "    [1, 0, 0, 1, 0, 0],\n",
    "    [1, 0, 0, 0, 1, 0],\n",
    "    [0, 1, 0, 0, 0, 1],\n",
    "    [0, 0, 1, 0, 0, 1],\n",
    "    [0, 0, 0, 1, 1, 0]\n",
    "]\n",
    "\n",
    "x = y = torch.Tensor([1, 0, 0, 1, 1, 0]).view(-1, 1)\n",
    "# y = torch.LongTensor([1, 0, 0, 1, 1, 0]).view(-1, 1)\n",
    "\n",
    "adj = torch.Tensor(adj)\n",
    "\n",
    "edge_index, edge_attr = pyg.utils.dense_to_sparse(adj)\n"
   ],
   "metadata": {
    "collapsed": false,
    "ExecuteTime": {
     "end_time": "2024-03-24T22:39:28.409422300Z",
     "start_time": "2024-03-24T22:39:28.402327500Z"
    }
   }
  },
  {
   "cell_type": "code",
   "execution_count": 47,
   "outputs": [],
   "source": [
    "deg = adj.sum(dim=1, keepdim=True)\n",
    "rw = adj / deg.view(-1, 1)\n",
    "out = torch.eye(adj.size(0))\n",
    "rrwp = [out]\n",
    "for i in range(5):\n",
    "    out = out @ rw\n",
    "    rrwp.append(out)\n",
    "rrwp = torch.stack(rrwp, dim=-1)\n",
    "rrwp_ = SparseTensor.from_dense(rrwp, has_value=True)\n",
    "row, col, rrwp_val = rrwp_.coo()\n",
    "rrwp_index = torch.stack([col, row], dim=0)\n",
    "\n",
    "rrwp_val = rrwp_val * x.size(0)\n",
    "pe_dim = rrwp_val.size(1)\n",
    "\n"
   ],
   "metadata": {
    "collapsed": false,
    "ExecuteTime": {
     "end_time": "2024-03-24T22:54:00.504378700Z",
     "start_time": "2024-03-24T22:54:00.411566800Z"
    }
   }
  },
  {
   "cell_type": "code",
   "execution_count": 33,
   "outputs": [
    {
     "data": {
      "text/plain": "tensor([[6., 0.],\n        [0., 3.],\n        [0., 3.],\n        [0., 3.],\n        [6., 0.],\n        [0., 3.],\n        [0., 3.],\n        [6., 0.],\n        [0., 3.],\n        [0., 3.],\n        [6., 0.],\n        [0., 3.],\n        [0., 3.],\n        [6., 0.],\n        [0., 3.],\n        [0., 3.],\n        [0., 3.],\n        [6., 0.]])"
     },
     "execution_count": 33,
     "metadata": {},
     "output_type": "execute_result"
    }
   ],
   "source": [
    "rrwp_val"
   ],
   "metadata": {
    "collapsed": false,
    "ExecuteTime": {
     "end_time": "2024-03-24T22:50:13.782594400Z",
     "start_time": "2024-03-24T22:50:13.685520400Z"
    }
   }
  },
  {
   "cell_type": "markdown",
   "source": [
    "## Configuration"
   ],
   "metadata": {
    "collapsed": false
   }
  },
  {
   "cell_type": "code",
   "execution_count": 48,
   "outputs": [],
   "source": [
    "in_dim = 1\n",
    "out_dim = 1\n",
    "hid_dim = 16\n",
    "max_ep = 200\n",
    "\n",
    "device = 4\n"
   ],
   "metadata": {
    "collapsed": false,
    "ExecuteTime": {
     "end_time": "2024-03-24T22:54:03.710691900Z",
     "start_time": "2024-03-24T22:54:03.612139100Z"
    }
   }
  },
  {
   "cell_type": "code",
   "execution_count": 4,
   "outputs": [],
   "source": [],
   "metadata": {
    "collapsed": false,
    "ExecuteTime": {
     "end_time": "2024-03-24T22:39:29.875772700Z",
     "start_time": "2024-03-24T22:39:29.873102900Z"
    }
   }
  },
  {
   "cell_type": "markdown",
   "source": [
    "## 2-layer GCN"
   ],
   "metadata": {
    "collapsed": false
   }
  },
  {
   "cell_type": "code",
   "execution_count": 57,
   "outputs": [
    {
     "name": "stderr",
     "output_type": "stream",
     "text": [
      "GCN: bce_loss=0.03299408406019211  acc=1.0: 100%|█████████████████████████████████████████████████████████████████████████████████████████████████████████████████████████████████████████████████████████████████| 200/200 [00:02<00:00, 94.35it/s]\n",
      "GCN: bce_loss=0.10047248005867004  acc=1.0: 100%|█████████████████████████████████████████████████████████████████████████████████████████████████████████████████████████████████████████████████████████████████| 200/200 [00:02<00:00, 94.78it/s]\n",
      "GCN: bce_loss=0.04157925397157669  acc=1.0: 100%|████████████████████████████████████████████████████████████████████████████████████████████████████████████████████████████████████████████████████████████████| 200/200 [00:01<00:00, 105.97it/s]\n",
      "GCN: bce_loss=0.03691729158163071  acc=1.0: 100%|████████████████████████████████████████████████████████████████████████████████████████████████████████████████████████████████████████████████████████████████| 200/200 [00:01<00:00, 102.56it/s]\n",
      "GCN: bce_loss=0.14497503638267517  acc=1.0: 100%|█████████████████████████████████████████████████████████████████████████████████████████████████████████████████████████████████████████████████████████████████| 200/200 [00:02<00:00, 93.48it/s]"
     ]
    },
    {
     "name": "stdout",
     "output_type": "stream",
     "text": [
      "loss:  0.07138762921094895$\\pm$ 0.04429862924070049\n",
      "loss:  1.0$\\pm$ 0.0\n"
     ]
    },
    {
     "name": "stderr",
     "output_type": "stream",
     "text": [
      "\n"
     ]
    }
   ],
   "source": [
    "loss_ls = []\n",
    "acc_ls = []\n",
    "\n",
    "for r in range(5):\n",
    "    num_layers = 2\n",
    "    GCN = [(nn.Linear(in_dim, hid_dim), 'x -> x')]\n",
    "    for i in range(num_layers):\n",
    "        GCN += [(GCNConv(hid_dim, hid_dim, add_self_loops=True, normalize=True), 'x, edge_index -> x'),\n",
    "                # (nn.BatchNorm1d(hid_dim), 'x -> x'),\n",
    "                (nn.GELU(), 'x -> x')\n",
    "                ]\n",
    "    GCN += [(nn.Linear(hid_dim, out_dim), 'x -> x'),\n",
    "            (nn.Sigmoid(), 'x -> x')]\n",
    "\n",
    "    GCN = Sequential('x, edge_index', GCN)\n",
    "\n",
    "\n",
    "    # ------- To Device -------\n",
    "    GCN.to(device)\n",
    "    opt = torch.optim.Adam(GCN.parameters(), lr=1e-3)\n",
    "    loss_fn = nn.BCELoss()\n",
    "\n",
    "    x, y = x.to(device), y.to(device)\n",
    "\n",
    "    edge_index = edge_index.to(device)\n",
    "\n",
    "    ### ----- Traing -------\n",
    "    t_bar = trange(max_ep, desc='GCN', leave=True)\n",
    "    for ep in t_bar:\n",
    "        opt.zero_grad()\n",
    "        pred = GCN.forward(x, edge_index)\n",
    "        loss = loss_fn(pred, y)\n",
    "        loss.backward()\n",
    "        opt.step()\n",
    "        pred_ = (pred >= 0.5).type(torch.long)\n",
    "        acc = torch.mean((pred_ == y).type(torch.float))\n",
    "        t_bar.set_description(f'GCN: bce_loss={loss.item()}  acc={acc.item()}')\n",
    "\n",
    "    loss_ls.append(loss.item())\n",
    "    acc_ls.append(acc.item())\n",
    "\n",
    "print(f'loss:  {np.mean(loss_ls)}$\\pm$ {np.std(loss_ls)}', )\n",
    "print(f'acc:  {np.mean(acc_ls)}$\\pm$ {np.std(acc_ls)}', )\n",
    "\n"
   ],
   "metadata": {
    "collapsed": false,
    "ExecuteTime": {
     "end_time": "2024-03-25T17:36:06.113023100Z",
     "start_time": "2024-03-25T17:35:55.760545Z"
    }
   }
  },
  {
   "cell_type": "markdown",
   "source": [
    "## 6-layer GCN"
   ],
   "metadata": {
    "collapsed": false
   }
  },
  {
   "cell_type": "code",
   "execution_count": 58,
   "outputs": [
    {
     "name": "stderr",
     "output_type": "stream",
     "text": [
      "GCN: bce_loss=0.6930991411209106  acc=0.5: 100%|██████████████████████████████████████████████████████████████████████████████████████████████████████████████████████████████████████████████████████████████████| 200/200 [00:04<00:00, 40.40it/s]\n",
      "GCN: bce_loss=0.6931114196777344  acc=0.5: 100%|██████████████████████████████████████████████████████████████████████████████████████████████████████████████████████████████████████████████████████████████████| 200/200 [00:04<00:00, 42.62it/s]\n",
      "GCN: bce_loss=0.6931331157684326  acc=0.5: 100%|██████████████████████████████████████████████████████████████████████████████████████████████████████████████████████████████████████████████████████████████████| 200/200 [00:04<00:00, 40.89it/s]\n",
      "GCN: bce_loss=0.6930863261222839  acc=0.5: 100%|██████████████████████████████████████████████████████████████████████████████████████████████████████████████████████████████████████████████████████████████████| 200/200 [00:04<00:00, 40.21it/s]\n",
      "GCN: bce_loss=0.693147599697113  acc=0.5: 100%|███████████████████████████████████████████████████████████████████████████████████████████████████████████████████████████████████████████████████████████████████| 200/200 [00:04<00:00, 40.76it/s]"
     ]
    },
    {
     "name": "stdout",
     "output_type": "stream",
     "text": [
      "loss:  0.693115520477295$\\pm$ 2.225345299707741e-05\n",
      "acc:  0.5$\\pm$ 0.0\n"
     ]
    },
    {
     "name": "stderr",
     "output_type": "stream",
     "text": [
      "\n"
     ]
    }
   ],
   "source": [
    "\n",
    "loss_ls = []\n",
    "acc_ls = []\n",
    "\n",
    "for r in range(5):\n",
    "    num_layers = 6\n",
    "    GCN = [(nn.Linear(in_dim, hid_dim), 'x -> x')]\n",
    "    for i in range(num_layers):\n",
    "        GCN += [(GCNConv(hid_dim, hid_dim, add_self_loops=True, normalize=True), 'x, edge_index -> x'),\n",
    "                # (nn.BatchNorm1d(hid_dim), 'x -> x'),\n",
    "                (nn.GELU(), 'x -> x')\n",
    "                ]\n",
    "    GCN += [(nn.Linear(hid_dim, out_dim), 'x -> x'),\n",
    "            (nn.Sigmoid(), 'x -> x')]\n",
    "\n",
    "    GCN = Sequential('x, edge_index', GCN)\n",
    "\n",
    "\n",
    "    # ------- To Device -------\n",
    "    GCN.to(device)\n",
    "    opt = torch.optim.Adam(GCN.parameters(), lr=1e-3)\n",
    "    loss_fn = nn.BCELoss()\n",
    "\n",
    "    x, y = x.to(device), y.to(device)\n",
    "\n",
    "    edge_index = edge_index.to(device)\n",
    "\n",
    "    ### ----- Traing -------\n",
    "    t_bar = trange(max_ep, desc='GCN', leave=True)\n",
    "    for ep in t_bar:\n",
    "        opt.zero_grad()\n",
    "        pred = GCN.forward(x, edge_index)\n",
    "        loss = loss_fn(pred, y)\n",
    "        loss.backward()\n",
    "        opt.step()\n",
    "        pred_ = (pred >= 0.5).type(torch.long)\n",
    "        acc = torch.mean((pred_ == y).type(torch.float))\n",
    "        t_bar.set_description(f'GCN: bce_loss={loss.item()}  acc={acc.item()}')\n",
    "\n",
    "\n",
    "    loss_ls.append(loss.item())\n",
    "    acc_ls.append(acc.item())\n",
    "\n",
    "print(f'loss:  {np.mean(loss_ls)}$\\pm$ {np.std(loss_ls)}', )\n",
    "print(f'acc:  {np.mean(acc_ls)}$\\pm$ {np.std(acc_ls)}', )\n"
   ],
   "metadata": {
    "collapsed": false,
    "ExecuteTime": {
     "end_time": "2024-03-25T17:37:43.360962400Z",
     "start_time": "2024-03-25T17:37:18.846646500Z"
    }
   }
  },
  {
   "cell_type": "markdown",
   "source": [
    "## 2-layer CKGCN"
   ],
   "metadata": {
    "collapsed": false
   }
  },
  {
   "cell_type": "code",
   "execution_count": 59,
   "outputs": [
    {
     "name": "stderr",
     "output_type": "stream",
     "text": [
      "CKGCN: bce_loss=7.012965943431482e-05  acc=1.0: 100%|█████████████████████████████████████████████████████████████████████████████████████████████████████████████████████████████████████████████████████████████| 200/200 [00:02<00:00, 93.54it/s]\n",
      "CKGCN: bce_loss=2.4796047000563703e-05  acc=1.0: 100%|████████████████████████████████████████████████████████████████████████████████████████████████████████████████████████████████████████████████████████████| 200/200 [00:02<00:00, 82.84it/s]\n",
      "CKGCN: bce_loss=3.8535185012733564e-05  acc=1.0: 100%|████████████████████████████████████████████████████████████████████████████████████████████████████████████████████████████████████████████████████████████| 200/200 [00:02<00:00, 99.60it/s]\n",
      "CKGCN: bce_loss=2.089174449793063e-05  acc=1.0: 100%|█████████████████████████████████████████████████████████████████████████████████████████████████████████████████████████████████████████████████████████████| 200/200 [00:02<00:00, 88.37it/s]\n",
      "CKGCN: bce_loss=3.180006387992762e-05  acc=1.0: 100%|█████████████████████████████████████████████████████████████████████████████████████████████████████████████████████████████████████████████████████████████| 200/200 [00:02<00:00, 88.89it/s]"
     ]
    },
    {
     "name": "stdout",
     "output_type": "stream",
     "text": [
      "loss:  3.723053996509407e-05$\\pm$ 1.7522083686963205e-05\n",
      "acc:  1.0$\\pm$ 0.0\n"
     ]
    },
    {
     "name": "stderr",
     "output_type": "stream",
     "text": [
      "\n"
     ]
    }
   ],
   "source": [
    "\n",
    "loss_ls = []\n",
    "acc_ls = []\n",
    "\n",
    "for r in range(5):\n",
    "    num_layers = 2\n",
    "    CKGCN = [(nn.Linear(in_dim, hid_dim), 'x -> x')]\n",
    "    for i in range(num_layers):\n",
    "        CKGCN += [(CKGConv(hid_dim, hid_dim, pe_dim, ffn_ratio=1., num_blocks=1, attn_dropout=0.), 'x, pe_index, pe_val -> x'),\n",
    "                  # (nn.BatchNorm1d(hid_dim), 'x -> x'),\n",
    "                  (nn.GELU(), 'x -> x')\n",
    "                  ]\n",
    "    CKGCN += [(nn.Linear(hid_dim, out_dim), 'x -> x'),\n",
    "              (nn.Sigmoid(), 'x -> x')]\n",
    "\n",
    "    CKGCN = Sequential('x, pe_index, pe_val', CKGCN)\n",
    "\n",
    "    # ------- To Device -------\n",
    "    CKGCN.to(device)\n",
    "    opt = torch.optim.Adam(CKGCN.parameters(), lr=1e-3)\n",
    "    loss_fn = nn.BCELoss()\n",
    "\n",
    "    x, y = x.to(device), y.to(device)\n",
    "\n",
    "    rrwp_index, rrwp_val = rrwp_index.to(device), rrwp_val.to(device)\n",
    "\n",
    "    ### ----- Traing -------\n",
    "    t_bar = trange(max_ep, desc='CKGCN', leave=True)\n",
    "    for ep in t_bar:\n",
    "        opt.zero_grad()\n",
    "        pred = CKGCN.forward(x, rrwp_index, rrwp_val)\n",
    "        loss = loss_fn(pred, y)\n",
    "        loss.backward()\n",
    "        opt.step()\n",
    "        pred_ = (pred >= 0.5).type(torch.long)\n",
    "        acc = torch.mean((pred_ == y).type(torch.float))\n",
    "        t_bar.set_description(f'CKGCN: bce_loss={loss.item()}  acc={acc.item()}')\n",
    "\n",
    "\n",
    "    loss_ls.append(loss.item())\n",
    "    acc_ls.append(acc.item())\n",
    "\n",
    "print(f'loss:  {np.mean(loss_ls)}$\\pm$ {np.std(loss_ls)}', )\n",
    "print(f'acc:  {np.mean(acc_ls)}$\\pm$ {np.std(acc_ls)}', )\n"
   ],
   "metadata": {
    "collapsed": false,
    "ExecuteTime": {
     "end_time": "2024-03-25T17:38:18.596304700Z",
     "start_time": "2024-03-25T17:38:06.994269900Z"
    }
   }
  },
  {
   "cell_type": "markdown",
   "source": [
    "## 6-layer CKGCN"
   ],
   "metadata": {
    "collapsed": false
   }
  },
  {
   "cell_type": "code",
   "execution_count": 60,
   "outputs": [
    {
     "name": "stderr",
     "output_type": "stream",
     "text": [
      "CKGCN: bce_loss=0.0  acc=1.0: 100%|███████████████████████████████████████████████████████████████████████████████████████████████████████████████████████████████████████████████████████████████████████████████| 200/200 [00:05<00:00, 39.12it/s]\n",
      "CKGCN: bce_loss=0.0  acc=1.0: 100%|███████████████████████████████████████████████████████████████████████████████████████████████████████████████████████████████████████████████████████████████████████████████| 200/200 [00:04<00:00, 45.76it/s]\n",
      "CKGCN: bce_loss=0.0  acc=1.0: 100%|███████████████████████████████████████████████████████████████████████████████████████████████████████████████████████████████████████████████████████████████████████████████| 200/200 [00:04<00:00, 44.43it/s]\n",
      "CKGCN: bce_loss=0.0  acc=1.0: 100%|███████████████████████████████████████████████████████████████████████████████████████████████████████████████████████████████████████████████████████████████████████████████| 200/200 [00:04<00:00, 41.35it/s]\n",
      "CKGCN: bce_loss=0.0  acc=1.0: 100%|███████████████████████████████████████████████████████████████████████████████████████████████████████████████████████████████████████████████████████████████████████████████| 200/200 [00:05<00:00, 34.57it/s]"
     ]
    },
    {
     "name": "stdout",
     "output_type": "stream",
     "text": [
      "loss:  0.0$\\pm$ 0.0\n",
      "acc:  1.0$\\pm$ 0.0\n"
     ]
    },
    {
     "name": "stderr",
     "output_type": "stream",
     "text": [
      "\n"
     ]
    }
   ],
   "source": [
    "\n",
    "loss_ls = []\n",
    "acc_ls = []\n",
    "\n",
    "for r in range(5):\n",
    "\n",
    "    num_layers = 6\n",
    "    CKGCN = [(nn.Linear(in_dim, hid_dim), 'x -> x')]\n",
    "    for i in range(num_layers):\n",
    "        CKGCN += [(CKGConv(hid_dim, hid_dim, pe_dim, ffn_ratio=1., num_blocks=1, attn_dropout=0.), 'x, pe_index, pe_val -> x'),\n",
    "                  # (nn.BatchNorm1d(hid_dim), 'x -> x'),\n",
    "                  (nn.GELU(), 'x -> x')\n",
    "                  ]\n",
    "    CKGCN += [(nn.Linear(hid_dim, out_dim), 'x -> x'),\n",
    "              (nn.Sigmoid(), 'x -> x')]\n",
    "\n",
    "    CKGCN = Sequential('x, pe_index, pe_val', CKGCN)\n",
    "\n",
    "    # ------- To Device -------\n",
    "    CKGCN.to(device)\n",
    "    opt = torch.optim.Adam(CKGCN.parameters(), lr=1e-3)\n",
    "    loss_fn = nn.BCELoss()\n",
    "\n",
    "    x, y = x.to(device), y.to(device)\n",
    "\n",
    "    rrwp_index, rrwp_val = rrwp_index.to(device), rrwp_val.to(device)\n",
    "\n",
    "    ### ----- Traing -------\n",
    "    t_bar = trange(max_ep, desc='CKGCN', leave=True)\n",
    "    for ep in t_bar:\n",
    "        opt.zero_grad()\n",
    "        pred = CKGCN.forward(x, rrwp_index, rrwp_val)\n",
    "        loss = loss_fn(pred, y)\n",
    "        loss.backward()\n",
    "        opt.step()\n",
    "        pred_ = (pred >= 0.5).type(torch.long)\n",
    "        acc = torch.mean((pred_ == y).type(torch.float))\n",
    "        t_bar.set_description(f'CKGCN: bce_loss={loss.item()}  acc={acc.item()}')\n",
    "\n",
    "\n",
    "    loss_ls.append(loss.item())\n",
    "    acc_ls.append(acc.item())\n",
    "\n",
    "print(f'loss:  {np.mean(loss_ls)}$\\pm$ {np.std(loss_ls)}', )\n",
    "print(f'acc:  {np.mean(acc_ls)}$\\pm$ {np.std(acc_ls)}', )\n"
   ],
   "metadata": {
    "collapsed": false,
    "ExecuteTime": {
     "end_time": "2024-03-25T17:39:01.427351600Z",
     "start_time": "2024-03-25T17:38:36.288186400Z"
    }
   }
  },
  {
   "cell_type": "code",
   "execution_count": 27,
   "outputs": [
    {
     "data": {
      "text/plain": "tensor([[0., 1., 1., 0., 0., 0.],\n        [1., 0., 0., 1., 0., 0.],\n        [1., 0., 0., 0., 1., 0.],\n        [0., 1., 0., 0., 0., 1.],\n        [0., 0., 1., 0., 0., 1.],\n        [0., 0., 0., 1., 1., 0.]])"
     },
     "execution_count": 27,
     "metadata": {},
     "output_type": "execute_result"
    }
   ],
   "source": [],
   "metadata": {
    "collapsed": false,
    "ExecuteTime": {
     "end_time": "2024-03-24T22:48:06.765504100Z",
     "start_time": "2024-03-24T22:48:06.632148700Z"
    }
   }
  }
 ],
 "metadata": {
  "kernelspec": {
   "name": "conda-env-.conda-grit-py",
   "language": "python",
   "display_name": "Python [conda env:.conda-grit]"
  },
  "language_info": {
   "codemirror_mode": {
    "name": "ipython",
    "version": 2
   },
   "file_extension": ".py",
   "mimetype": "text/x-python",
   "name": "python",
   "nbconvert_exporter": "python",
   "pygments_lexer": "ipython2",
   "version": "2.7.6"
  }
 },
 "nbformat": 4,
 "nbformat_minor": 0
}
