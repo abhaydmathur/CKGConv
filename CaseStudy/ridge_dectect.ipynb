{
 "cells": [
  {
   "cell_type": "markdown",
   "source": [
    "\n",
    "\n",
    "```\n",
    "input graph signals\n",
    "1 --- 1 ---- 0 ---- 0\n",
    "|     |      |      |\n",
    "|     |      |      |\n",
    "1 --- 1 ---- 0 ---- 0\n",
    "\n",
    "graph labels\n",
    "0 --- 1 ---- 1 ---- 0\n",
    "|     |      |      |\n",
    "|     |      |      |\n",
    "0 --- 1 ---- 1 ---- 0\n",
    "\n",
    "```"
   ],
   "metadata": {
    "collapsed": false
   }
  },
  {
   "cell_type": "code",
   "execution_count": 30,
   "metadata": {
    "collapsed": true,
    "ExecuteTime": {
     "end_time": "2024-03-25T17:52:53.882625200Z",
     "start_time": "2024-03-25T17:52:53.881613800Z"
    }
   },
   "outputs": [],
   "source": [
    "import torch\n",
    "from torch import nn\n",
    "import torch_geometric as pyg\n",
    "import numpy as np\n",
    "\n",
    "from torch_geometric.nn import Sequential\n",
    "from torch_geometric.nn import GCNConv\n",
    "from SimCKGConv import CKGConv\n",
    "from tqdm import tqdm, trange\n",
    "from torch_sparse import SparseTensor\n"
   ]
  },
  {
   "cell_type": "markdown",
   "source": [
    "## Prepare Synthetic Data"
   ],
   "metadata": {
    "collapsed": false
   }
  },
  {
   "cell_type": "code",
   "execution_count": 31,
   "outputs": [],
   "source": [
    "# Data\n",
    "'''\n",
    "input graph signals\n",
    "1 --- 1 ---- 0 ---- 0\n",
    "|     |      |      |\n",
    "|     |      |      |\n",
    "1 --- 1 ---- 0 ---- 0\n",
    "\n",
    "graph labels\n",
    "0 --- 1 ---- 1 ---- 0\n",
    "|     |      |      |\n",
    "|     |      |      |\n",
    "0 --- 1 ---- 1 ---- 0\n",
    "'''\n",
    "\n",
    "adj = [\n",
    "    [0, 1, 0, 0, 1, 0, 0, 0],\n",
    "    [1, 0, 1, 0, 0, 1, 0, 0],\n",
    "    [0, 1, 0, 1, 0, 0, 1, 0],\n",
    "    [0, 0, 1, 0, 0, 0, 0, 1],\n",
    "    [1, 0, 0, 0, 0, 1, 0, 0],\n",
    "    [0, 1, 0, 0, 1, 0, 1, 0],\n",
    "    [0, 0, 1, 0, 0, 1, 0, 1],\n",
    "    [0, 0, 0, 1, 0, 0, 1, 0],\n",
    "]\n",
    "\n",
    "x = torch.Tensor([1, 1, 0, 0, 1, 1, 0, 0]).view(-1, 1)\n",
    "y = torch.Tensor([0, 1, 1, 0, 0, 1, 1, 0]).view(-1, 1)\n",
    "# y = torch.LongTensor([1, 0, 0, 1, 1, 0]).view(-1, 1)\n",
    "\n",
    "adj = torch.Tensor(adj)\n",
    "\n",
    "edge_index, edge_attr = pyg.utils.dense_to_sparse(adj)\n"
   ],
   "metadata": {
    "collapsed": false,
    "ExecuteTime": {
     "end_time": "2024-03-25T17:52:54.888907600Z",
     "start_time": "2024-03-25T17:52:54.792321900Z"
    }
   }
  },
  {
   "cell_type": "code",
   "execution_count": 32,
   "outputs": [],
   "source": [
    "deg = adj.sum(dim=1, keepdim=True)\n",
    "rw = adj / deg.view(-1, 1)\n",
    "out = torch.eye(adj.size(0))\n",
    "rrwp = [out]\n",
    "for i in range(5):\n",
    "    out = out @ rw\n",
    "    rrwp.append(out)\n",
    "rrwp = torch.stack(rrwp, dim=-1)\n",
    "rrwp_ = SparseTensor.from_dense(rrwp, has_value=True)\n",
    "row, col, rrwp_val = rrwp_.coo()\n",
    "rrwp_index = torch.stack([col, row], dim=0)\n",
    "\n",
    "rrwp_val = rrwp_val * x.size(0)\n",
    "pe_dim = rrwp_val.size(1)\n",
    "\n"
   ],
   "metadata": {
    "collapsed": false,
    "ExecuteTime": {
     "end_time": "2024-03-25T17:52:56.385513100Z",
     "start_time": "2024-03-25T17:52:56.286331Z"
    }
   }
  },
  {
   "cell_type": "code",
   "execution_count": 33,
   "outputs": [
    {
     "data": {
      "text/plain": "tensor([[8.0000, 0.0000, 3.3333, 0.0000, 2.4630, 0.0000],\n        [0.0000, 4.0000, 0.0000, 3.2222, 0.0000, 2.8302],\n        [0.0000, 0.0000, 1.3333, 0.0000, 1.8148, 0.0000],\n        [0.0000, 0.0000, 0.0000, 0.4444, 0.0000, 0.9753],\n        [0.0000, 4.0000, 0.0000, 2.7778, 0.0000, 2.2253],\n        [0.0000, 0.0000, 3.3333, 0.0000, 2.9815, 0.0000],\n        [0.0000, 0.0000, 0.0000, 1.5556, 0.0000, 1.9691],\n        [0.0000, 0.0000, 0.0000, 0.0000, 0.7407, 0.0000],\n        [0.0000, 2.6667, 0.0000, 2.1481, 0.0000, 1.8868],\n        [8.0000, 0.0000, 3.1111, 0.0000, 2.6790, 0.0000],\n        [0.0000, 2.6667, 0.0000, 2.0741, 0.0000, 2.2058],\n        [0.0000, 0.0000, 0.8889, 0.0000, 1.2099, 0.0000],\n        [0.0000, 0.0000, 2.2222, 0.0000, 1.9877, 0.0000],\n        [0.0000, 2.6667, 0.0000, 2.7407, 0.0000, 2.5947],\n        [0.0000, 0.0000, 1.7778, 0.0000, 2.1235, 0.0000],\n        [0.0000, 0.0000, 0.0000, 1.0370, 0.0000, 1.3128],\n        [0.0000, 0.0000, 0.8889, 0.0000, 1.2099, 0.0000],\n        [0.0000, 2.6667, 0.0000, 2.0741, 0.0000, 2.2058],\n        [8.0000, 0.0000, 3.1111, 0.0000, 2.6790, 0.0000],\n        [0.0000, 2.6667, 0.0000, 2.1481, 0.0000, 1.8868],\n        [0.0000, 0.0000, 0.0000, 1.0370, 0.0000, 1.3128],\n        [0.0000, 0.0000, 1.7778, 0.0000, 2.1235, 0.0000],\n        [0.0000, 2.6667, 0.0000, 2.7407, 0.0000, 2.5947],\n        [0.0000, 0.0000, 2.2222, 0.0000, 1.9877, 0.0000],\n        [0.0000, 0.0000, 0.0000, 0.4444, 0.0000, 0.9753],\n        [0.0000, 0.0000, 1.3333, 0.0000, 1.8148, 0.0000],\n        [0.0000, 4.0000, 0.0000, 3.2222, 0.0000, 2.8302],\n        [8.0000, 0.0000, 3.3333, 0.0000, 2.4630, 0.0000],\n        [0.0000, 0.0000, 0.0000, 0.0000, 0.7407, 0.0000],\n        [0.0000, 0.0000, 0.0000, 1.5556, 0.0000, 1.9691],\n        [0.0000, 0.0000, 3.3333, 0.0000, 2.9815, 0.0000],\n        [0.0000, 4.0000, 0.0000, 2.7778, 0.0000, 2.2253],\n        [0.0000, 4.0000, 0.0000, 2.7778, 0.0000, 2.2253],\n        [0.0000, 0.0000, 3.3333, 0.0000, 2.9815, 0.0000],\n        [0.0000, 0.0000, 0.0000, 1.5556, 0.0000, 1.9691],\n        [0.0000, 0.0000, 0.0000, 0.0000, 0.7407, 0.0000],\n        [8.0000, 0.0000, 3.3333, 0.0000, 2.4630, 0.0000],\n        [0.0000, 4.0000, 0.0000, 3.2222, 0.0000, 2.8302],\n        [0.0000, 0.0000, 1.3333, 0.0000, 1.8148, 0.0000],\n        [0.0000, 0.0000, 0.0000, 0.4444, 0.0000, 0.9753],\n        [0.0000, 0.0000, 2.2222, 0.0000, 1.9877, 0.0000],\n        [0.0000, 2.6667, 0.0000, 2.7407, 0.0000, 2.5947],\n        [0.0000, 0.0000, 1.7778, 0.0000, 2.1235, 0.0000],\n        [0.0000, 0.0000, 0.0000, 1.0370, 0.0000, 1.3128],\n        [0.0000, 2.6667, 0.0000, 2.1481, 0.0000, 1.8868],\n        [8.0000, 0.0000, 3.1111, 0.0000, 2.6790, 0.0000],\n        [0.0000, 2.6667, 0.0000, 2.0741, 0.0000, 2.2058],\n        [0.0000, 0.0000, 0.8889, 0.0000, 1.2099, 0.0000],\n        [0.0000, 0.0000, 0.0000, 1.0370, 0.0000, 1.3128],\n        [0.0000, 0.0000, 1.7778, 0.0000, 2.1235, 0.0000],\n        [0.0000, 2.6667, 0.0000, 2.7407, 0.0000, 2.5947],\n        [0.0000, 0.0000, 2.2222, 0.0000, 1.9877, 0.0000],\n        [0.0000, 0.0000, 0.8889, 0.0000, 1.2099, 0.0000],\n        [0.0000, 2.6667, 0.0000, 2.0741, 0.0000, 2.2058],\n        [8.0000, 0.0000, 3.1111, 0.0000, 2.6790, 0.0000],\n        [0.0000, 2.6667, 0.0000, 2.1481, 0.0000, 1.8868],\n        [0.0000, 0.0000, 0.0000, 0.0000, 0.7407, 0.0000],\n        [0.0000, 0.0000, 0.0000, 1.5556, 0.0000, 1.9691],\n        [0.0000, 0.0000, 3.3333, 0.0000, 2.9815, 0.0000],\n        [0.0000, 4.0000, 0.0000, 2.7778, 0.0000, 2.2253],\n        [0.0000, 0.0000, 0.0000, 0.4444, 0.0000, 0.9753],\n        [0.0000, 0.0000, 1.3333, 0.0000, 1.8148, 0.0000],\n        [0.0000, 4.0000, 0.0000, 3.2222, 0.0000, 2.8302],\n        [8.0000, 0.0000, 3.3333, 0.0000, 2.4630, 0.0000]])"
     },
     "execution_count": 33,
     "metadata": {},
     "output_type": "execute_result"
    }
   ],
   "source": [
    "rrwp_val"
   ],
   "metadata": {
    "collapsed": false,
    "ExecuteTime": {
     "end_time": "2024-03-25T17:52:56.867166800Z",
     "start_time": "2024-03-25T17:52:56.761961500Z"
    }
   }
  },
  {
   "cell_type": "markdown",
   "source": [
    "## Configuration"
   ],
   "metadata": {
    "collapsed": false
   }
  },
  {
   "cell_type": "code",
   "execution_count": 34,
   "outputs": [],
   "source": [
    "in_dim = 1\n",
    "out_dim = 1\n",
    "hid_dim = 1\n",
    "max_ep = 200\n",
    "lr = 1e-2\n",
    "device = 4\n"
   ],
   "metadata": {
    "collapsed": false,
    "ExecuteTime": {
     "end_time": "2024-03-25T17:52:58.218276400Z",
     "start_time": "2024-03-25T17:52:58.117671700Z"
    }
   }
  },
  {
   "cell_type": "code",
   "execution_count": 23,
   "outputs": [],
   "source": [],
   "metadata": {
    "collapsed": false,
    "ExecuteTime": {
     "end_time": "2024-03-25T17:28:51.810565100Z",
     "start_time": "2024-03-25T17:28:51.709058400Z"
    }
   }
  },
  {
   "cell_type": "markdown",
   "source": [
    "## 1-layer GCN"
   ],
   "metadata": {
    "collapsed": false
   }
  },
  {
   "cell_type": "code",
   "execution_count": 35,
   "outputs": [
    {
     "name": "stderr",
     "output_type": "stream",
     "text": [
      "GCN: bce_loss=0.6934078931808472  acc=0.5: 100%|█████████████████████████████████████████████████████████████████████████████████████████████████████████████████████████████████████████████████████████████████| 200/200 [00:00<00:00, 203.03it/s]\n",
      "GCN: bce_loss=0.6924217939376831  acc=0.5: 100%|█████████████████████████████████████████████████████████████████████████████████████████████████████████████████████████████████████████████████████████████████| 200/200 [00:01<00:00, 175.11it/s]\n",
      "GCN: bce_loss=0.6939367055892944  acc=0.5: 100%|█████████████████████████████████████████████████████████████████████████████████████████████████████████████████████████████████████████████████████████████████| 200/200 [00:01<00:00, 178.13it/s]\n",
      "GCN: bce_loss=0.6917071342468262  acc=0.5: 100%|█████████████████████████████████████████████████████████████████████████████████████████████████████████████████████████████████████████████████████████████████| 200/200 [00:01<00:00, 165.92it/s]\n",
      "GCN: bce_loss=0.6917070746421814  acc=0.5: 100%|█████████████████████████████████████████████████████████████████████████████████████████████████████████████████████████████████████████████████████████████████| 200/200 [00:01<00:00, 163.38it/s]"
     ]
    },
    {
     "name": "stdout",
     "output_type": "stream",
     "text": [
      "loss:  0.6926361203193665$\\pm$ 0.0009010252144337916\n",
      "acc:  0.5$\\pm$ 0.0\n"
     ]
    },
    {
     "name": "stderr",
     "output_type": "stream",
     "text": [
      "\n"
     ]
    }
   ],
   "source": [
    "\n",
    "loss_ls = []\n",
    "acc_ls = []\n",
    "\n",
    "for r in range(5):\n",
    "    num_layers = 1\n",
    "    # GCN = [(nn.Linear(in_dim, hid_dim), 'x -> x')]\n",
    "    GCN = []\n",
    "    for i in range(num_layers):\n",
    "        GCN += [(GCNConv(hid_dim, out_dim, add_self_loops=True, normalize=True), 'x, edge_index -> x'),\n",
    "                # (nn.BatchNorm1d(hid_dim), 'x -> x'),\n",
    "                ]\n",
    "    # GCN += [(nn.Linear(hid_dim, out_dim), 'x -> x'),\n",
    "    #         (nn.Sigmoid(), 'x -> x')]\n",
    "    GCN += [(nn.Sigmoid(), 'x -> x')]\n",
    "\n",
    "    GCN = Sequential('x, edge_index', GCN)\n",
    "\n",
    "\n",
    "    # ------- To Device -------\n",
    "    GCN.to(device)\n",
    "    opt = torch.optim.Adam(GCN.parameters(), lr=lr)\n",
    "    loss_fn = nn.BCELoss()\n",
    "\n",
    "    x, y = x.to(device), y.to(device)\n",
    "\n",
    "    edge_index = edge_index.to(device)\n",
    "\n",
    "    ### ----- Traing -------\n",
    "    t_bar = trange(max_ep, desc='GCN', leave=True)\n",
    "    for ep in t_bar:\n",
    "        opt.zero_grad()\n",
    "        pred = GCN.forward(x, edge_index)\n",
    "        loss = loss_fn(pred, y)\n",
    "        loss.backward()\n",
    "        opt.step()\n",
    "        pred_ = (pred >= 0.5).type(torch.long)\n",
    "        acc = torch.mean((pred_ == y).type(torch.float))\n",
    "        t_bar.set_description(f'GCN: bce_loss={loss.item()}  acc={acc.item()}')\n",
    "\n",
    "\n",
    "    loss_ls.append(loss.item())\n",
    "    acc_ls.append(acc.item())\n",
    "\n",
    "print(f'loss:  {np.mean(loss_ls)}$\\pm$ {np.std(loss_ls)}', )\n",
    "print(f'acc:  {np.mean(acc_ls)}$\\pm$ {np.std(acc_ls)}', )\n",
    "\n"
   ],
   "metadata": {
    "collapsed": false,
    "ExecuteTime": {
     "end_time": "2024-03-25T17:53:06.790397200Z",
     "start_time": "2024-03-25T17:53:00.981142Z"
    }
   }
  },
  {
   "cell_type": "markdown",
   "source": [
    "## 1-layer CKGCN"
   ],
   "metadata": {
    "collapsed": false
   }
  },
  {
   "cell_type": "code",
   "execution_count": 36,
   "outputs": [
    {
     "name": "stderr",
     "output_type": "stream",
     "text": [
      "CKGCN: bce_loss=7.476362225133926e-05  acc=1.0: 100%|████████████████████████████████████████████████████████████████████████████████████████████████████████████████████████████████████████████████████████████| 200/200 [00:01<00:00, 168.37it/s]\n",
      "CKGCN: bce_loss=0.0003700567758642137  acc=1.0: 100%|████████████████████████████████████████████████████████████████████████████████████████████████████████████████████████████████████████████████████████████| 200/200 [00:00<00:00, 203.64it/s]\n",
      "CKGCN: bce_loss=3.141218621749431e-05  acc=1.0: 100%|████████████████████████████████████████████████████████████████████████████████████████████████████████████████████████████████████████████████████████████| 200/200 [00:01<00:00, 184.18it/s]\n",
      "CKGCN: bce_loss=5.6090415455400944e-05  acc=1.0: 100%|███████████████████████████████████████████████████████████████████████████████████████████████████████████████████████████████████████████████████████████| 200/200 [00:01<00:00, 175.78it/s]\n",
      "CKGCN: bce_loss=0.00017499510431662202  acc=1.0: 100%|███████████████████████████████████████████████████████████████████████████████████████████████████████████████████████████████████████████████████████████| 200/200 [00:00<00:00, 202.01it/s]"
     ]
    },
    {
     "name": "stdout",
     "output_type": "stream",
     "text": [
      "loss:  0.00014146362082101405$\\pm$ 0.000124280314756527\n",
      "acc:  1.0$\\pm$ 0.0\n"
     ]
    },
    {
     "name": "stderr",
     "output_type": "stream",
     "text": [
      "\n"
     ]
    }
   ],
   "source": [
    "\n",
    "loss_ls = []\n",
    "acc_ls = []\n",
    "\n",
    "for r in range(5):\n",
    "    num_layers = 1\n",
    "    # CKGCN = [(nn.Linear(in_dim, hid_dim), 'x -> x')]\n",
    "    CKGCN = []\n",
    "    for i in range(num_layers):\n",
    "        CKGCN += [(CKGConv(hid_dim, out_dim, pe_dim, ffn_ratio=1., num_blocks=1, attn_dropout=0.), 'x, pe_index, pe_val -> x'),\n",
    "                  # (nn.BatchNorm1d(hid_dim), 'x -> x'),\n",
    "                  # (nn.GELU(), 'x -> x')\n",
    "                  ]\n",
    "    # CKGCN += [(nn.Linear(hid_dim, out_dim), 'x -> x'),\n",
    "    #           (nn.Sigmoid(), 'x -> x')]\n",
    "    CKGCN += [(nn.Sigmoid(), 'x -> x')]\n",
    "\n",
    "    CKGCN = Sequential('x, pe_index, pe_val', CKGCN)\n",
    "\n",
    "    # ------- To Device -------\n",
    "    CKGCN.to(device)\n",
    "    opt = torch.optim.Adam(CKGCN.parameters(), lr=lr)\n",
    "    loss_fn = nn.BCELoss()\n",
    "\n",
    "    x, y = x.to(device), y.to(device)\n",
    "\n",
    "    rrwp_index, rrwp_val = rrwp_index.to(device), rrwp_val.to(device)\n",
    "\n",
    "    ### ----- Traing -------\n",
    "    t_bar = trange(max_ep, desc='CKGCN', leave=True)\n",
    "    for ep in t_bar:\n",
    "        opt.zero_grad()\n",
    "        pred = CKGCN.forward(x, rrwp_index, rrwp_val)\n",
    "        loss = loss_fn(pred, y)\n",
    "        loss.backward()\n",
    "        opt.step()\n",
    "        pred_ = (pred >= 0.5).type(torch.long)\n",
    "        acc = torch.mean((pred_ == y).type(torch.float))\n",
    "        t_bar.set_description(f'CKGCN: bce_loss={loss.item()}  acc={acc.item()}')\n",
    "\n",
    "    loss_ls.append(loss.item())\n",
    "    acc_ls.append(acc.item())\n",
    "\n",
    "print(f'loss:  {np.mean(loss_ls)}$\\pm$ {np.std(loss_ls)}', )\n",
    "print(f'acc:  {np.mean(acc_ls)}$\\pm$ {np.std(acc_ls)}', )\n",
    "\n",
    "\n"
   ],
   "metadata": {
    "collapsed": false,
    "ExecuteTime": {
     "end_time": "2024-03-25T17:53:36.356458200Z",
     "start_time": "2024-03-25T17:53:30.781526300Z"
    }
   }
  },
  {
   "cell_type": "markdown",
   "source": [
    "## 1-layer CKGConv+Softmax (all positive)"
   ],
   "metadata": {
    "collapsed": false
   }
  },
  {
   "cell_type": "code",
   "execution_count": 40,
   "outputs": [
    {
     "name": "stderr",
     "output_type": "stream",
     "text": [
      "CKGCN: bce_loss=0.6931471824645996  acc=0.5: 100%|███████████████████████████████████████████████████████████████████████████████████████████████████████████████████████████████████████████████████████████████| 200/200 [00:01<00:00, 184.05it/s]\n",
      "CKGCN: bce_loss=0.6931471824645996  acc=0.5: 100%|███████████████████████████████████████████████████████████████████████████████████████████████████████████████████████████████████████████████████████████████| 200/200 [00:01<00:00, 159.47it/s]\n",
      "CKGCN: bce_loss=0.6931471824645996  acc=0.5: 100%|███████████████████████████████████████████████████████████████████████████████████████████████████████████████████████████████████████████████████████████████| 200/200 [00:01<00:00, 160.95it/s]\n",
      "CKGCN: bce_loss=0.6931471824645996  acc=0.5: 100%|███████████████████████████████████████████████████████████████████████████████████████████████████████████████████████████████████████████████████████████████| 200/200 [00:01<00:00, 151.75it/s]\n",
      "CKGCN: bce_loss=0.6931471824645996  acc=0.5: 100%|███████████████████████████████████████████████████████████████████████████████████████████████████████████████████████████████████████████████████████████████| 200/200 [00:01<00:00, 148.67it/s]\n"
     ]
    },
    {
     "name": "stdout",
     "output_type": "stream",
     "text": [
      "loss:  0.6931471824645996$\\pm$ 0.0\n",
      "acc:  0.5$\\pm$ 0.0\n"
     ]
    }
   ],
   "source": [
    "\n",
    "loss_ls = []\n",
    "acc_ls = []\n",
    "\n",
    "for r in range(5):\n",
    "    num_layers = 1\n",
    "    # CKGCN = [(nn.Linear(in_dim, hid_dim), 'x -> x')]\n",
    "    CKGCN = []\n",
    "    for i in range(num_layers):\n",
    "        CKGCN += [(CKGConv(hid_dim, out_dim, pe_dim, ffn_ratio=1., num_blocks=1, attn_dropout=0., softmax=True), 'x, pe_index, pe_val -> x'),\n",
    "                  # (nn.BatchNorm1d(hid_dim), 'x -> x'),\n",
    "                  # (nn.GELU(), 'x -> x')\n",
    "                  ]\n",
    "    # CKGCN += [(nn.Linear(hid_dim, out_dim), 'x -> x'),\n",
    "    #           (nn.Sigmoid(), 'x -> x')]\n",
    "    CKGCN += [(nn.Sigmoid(), 'x -> x')]\n",
    "\n",
    "    CKGCN = Sequential('x, pe_index, pe_val', CKGCN)\n",
    "\n",
    "    # ------- To Device -------\n",
    "    CKGCN.to(device)\n",
    "    opt = torch.optim.Adam(CKGCN.parameters(), lr=lr)\n",
    "    loss_fn = nn.BCELoss()\n",
    "\n",
    "    x, y = x.to(device), y.to(device)\n",
    "\n",
    "    rrwp_index, rrwp_val = rrwp_index.to(device), rrwp_val.to(device)\n",
    "\n",
    "    ### ----- Traing -------\n",
    "    t_bar = trange(max_ep, desc='CKGCN', leave=True)\n",
    "    for ep in t_bar:\n",
    "        opt.zero_grad()\n",
    "        pred = CKGCN.forward(x, rrwp_index, rrwp_val)\n",
    "        loss = loss_fn(pred, y)\n",
    "        loss.backward()\n",
    "        opt.step()\n",
    "        pred_ = (pred >= 0.5).type(torch.long)\n",
    "        acc = torch.mean((pred_ == y).type(torch.float))\n",
    "        t_bar.set_description(f'CKGCN: bce_loss={loss.item()}  acc={acc.item()}')\n",
    "\n",
    "\n",
    "    loss_ls.append(loss.item())\n",
    "    acc_ls.append(acc.item())\n",
    "\n",
    "print(f'loss:  {np.mean(loss_ls)}$\\pm$ {np.std(loss_ls)}', )\n",
    "print(f'acc:  {np.mean(acc_ls)}$\\pm$ {np.std(acc_ls)}', )\n",
    "\n"
   ],
   "metadata": {
    "collapsed": false,
    "ExecuteTime": {
     "end_time": "2024-03-25T18:24:01.464264100Z",
     "start_time": "2024-03-25T18:23:55.025925800Z"
    }
   }
  },
  {
   "cell_type": "markdown",
   "source": [
    "## 1-layer CKGCN + softplus"
   ],
   "metadata": {
    "collapsed": false
   }
  },
  {
   "cell_type": "code",
   "execution_count": 41,
   "outputs": [
    {
     "name": "stderr",
     "output_type": "stream",
     "text": [
      "CKGCN: bce_loss=0.6266765594482422  acc=0.75: 100%|██████████████████████████████████████████████████████████████████████████████████████████████████████████████████████████████████████████████████████████████| 200/200 [00:01<00:00, 167.75it/s]\n",
      "CKGCN: bce_loss=0.6898602843284607  acc=0.5: 100%|███████████████████████████████████████████████████████████████████████████████████████████████████████████████████████████████████████████████████████████████| 200/200 [00:00<00:00, 207.79it/s]\n",
      "CKGCN: bce_loss=0.6838582158088684  acc=0.5: 100%|███████████████████████████████████████████████████████████████████████████████████████████████████████████████████████████████████████████████████████████████| 200/200 [00:01<00:00, 162.34it/s]\n",
      "CKGCN: bce_loss=0.6618931293487549  acc=0.75: 100%|██████████████████████████████████████████████████████████████████████████████████████████████████████████████████████████████████████████████████████████████| 200/200 [00:01<00:00, 172.60it/s]\n",
      "CKGCN: bce_loss=0.7734920978546143  acc=0.5: 100%|███████████████████████████████████████████████████████████████████████████████████████████████████████████████████████████████████████████████████████████████| 200/200 [00:01<00:00, 172.20it/s]"
     ]
    },
    {
     "name": "stdout",
     "output_type": "stream",
     "text": [
      "loss:  0.6871560573577881$\\pm$ 0.04851409215896071\n",
      "acc:  0.6$\\pm$ 0.1224744871391589\n"
     ]
    },
    {
     "name": "stderr",
     "output_type": "stream",
     "text": [
      "\n"
     ]
    }
   ],
   "source": [
    "\n",
    "loss_ls = []\n",
    "acc_ls = []\n",
    "\n",
    "for r in range(5):\n",
    "    num_layers = 1\n",
    "    # CKGCN = [(nn.Linear(in_dim, hid_dim), 'x -> x')]\n",
    "    CKGCN = []\n",
    "    for i in range(num_layers):\n",
    "        CKGCN += [(CKGConv(hid_dim, out_dim, pe_dim, ffn_ratio=1., num_blocks=1, attn_dropout=0., softplus=True), 'x, pe_index, pe_val -> x'),\n",
    "                  # (nn.BatchNorm1d(hid_dim), 'x -> x'),\n",
    "                  # (nn.GELU(), 'x -> x')\n",
    "                  ]\n",
    "    # CKGCN += [(nn.Linear(hid_dim, out_dim), 'x -> x'),\n",
    "    #           (nn.Sigmoid(), 'x -> x')]\n",
    "    CKGCN += [(nn.Sigmoid(), 'x -> x')]\n",
    "\n",
    "    CKGCN = Sequential('x, pe_index, pe_val', CKGCN)\n",
    "\n",
    "    # ------- To Device -------\n",
    "    CKGCN.to(device)\n",
    "    opt = torch.optim.Adam(CKGCN.parameters(), lr=1e-3)\n",
    "    loss_fn = nn.BCELoss()\n",
    "\n",
    "    x, y = x.to(device), y.to(device)\n",
    "\n",
    "    rrwp_index, rrwp_val = rrwp_index.to(device), rrwp_val.to(device)\n",
    "\n",
    "    ### ----- Traing -------\n",
    "    t_bar = trange(max_ep, desc='CKGCN', leave=True)\n",
    "    for ep in t_bar:\n",
    "        opt.zero_grad()\n",
    "        pred = CKGCN.forward(x, rrwp_index, rrwp_val)\n",
    "        loss = loss_fn(pred, y)\n",
    "        loss.backward()\n",
    "        opt.step()\n",
    "        pred_ = (pred >= 0.5).type(torch.long)\n",
    "        acc = torch.mean((pred_ == y).type(torch.float))\n",
    "        t_bar.set_description(f'CKGCN: bce_loss={loss.item()}  acc={acc.item()}')\n",
    "\n",
    "\n",
    "    loss_ls.append(loss.item())\n",
    "    acc_ls.append(acc.item())\n",
    "\n",
    "print(f'loss:  {np.mean(loss_ls)}$\\pm$ {np.std(loss_ls)}', )\n",
    "print(f'acc:  {np.mean(acc_ls)}$\\pm$ {np.std(acc_ls)}', )\n",
    "\n"
   ],
   "metadata": {
    "collapsed": false,
    "ExecuteTime": {
     "end_time": "2024-03-25T18:24:07.395213700Z",
     "start_time": "2024-03-25T18:24:01.464264100Z"
    }
   }
  },
  {
   "cell_type": "markdown",
   "source": [
    " ## 6-layer CKGCN"
   ],
   "metadata": {
    "collapsed": false
   }
  },
  {
   "cell_type": "code",
   "execution_count": null,
   "outputs": [],
   "source": [],
   "metadata": {
    "collapsed": false
   }
  }
 ],
 "metadata": {
  "kernelspec": {
   "name": "conda-env-.conda-grit-py",
   "language": "python",
   "display_name": "Python [conda env:.conda-grit]"
  },
  "language_info": {
   "codemirror_mode": {
    "name": "ipython",
    "version": 2
   },
   "file_extension": ".py",
   "mimetype": "text/x-python",
   "name": "python",
   "nbconvert_exporter": "python",
   "pygments_lexer": "ipython2",
   "version": "2.7.6"
  }
 },
 "nbformat": 4,
 "nbformat_minor": 0
}
